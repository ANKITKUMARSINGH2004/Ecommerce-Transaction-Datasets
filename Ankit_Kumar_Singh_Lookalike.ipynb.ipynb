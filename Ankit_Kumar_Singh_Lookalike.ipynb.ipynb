{
 "cells": [
  {
   "cell_type": "code",
   "execution_count": 15,
   "id": "421ecc0f-de64-48d6-b1c6-2add8f72e31d",
   "metadata": {},
   "outputs": [
    {
     "name": "stdout",
     "output_type": "stream",
     "text": [
      "Lookalike model created and saved to Lookalike.csv\n"
     ]
    }
   ],
   "source": [
    "import pandas as pd\n",
    "from sklearn.preprocessing import StandardScaler\n",
    "from sklearn.neighbors import NearestNeighbors\n",
    "\n",
    "# Load data\n",
    "customers = pd.read_csv(\"C:\\\\Users\\\\ankit\\\\Downloads\\\\Customers.csv\")\n",
    "Products = pd.read_csv(\"C:\\\\Users\\\\ankit\\\\Downloads\\\\Products.csv\")\n",
    "\n",
    "# Feature engineering\n",
    "# Example: Calculate total Products value for each customer\n",
    "customer_features = Products.groupby('ProductID')['Price'].sum().reset_index()\n",
    "\n",
    "# Normalize features\n",
    "scaler = StandardScaler()\n",
    "customer_features_scaled = scaler.fit_transform(customer_features[['Price']])\n",
    "\n",
    "# Train KNN model\n",
    "knn = NearestNeighbors(n_neighbors=3, metric='cosine')\n",
    "knn.fit(customer_features_scaled)\n",
    "\n",
    "# Find top 3 similar customers for the first 20 customers\n",
    "lookalikes = {}\n",
    "for i in range(20):\n",
    "    distances, indices = knn.kneighbors([customer_features_scaled[i]])\n",
    "    lookalikes[customer_features.iloc[i]['ProductID']] = [\n",
    "        (customer_features.iloc[idx]['ProductID'], 1 - dist) for idx, dist in zip(indices[0], distances[0])\n",
    "    ]\n",
    "\n",
    "# Save lookalikes to CSV\n",
    "lookalikes_df = pd.DataFrame.from_dict(lookalikes, orient='index')\n",
    "lookalikes_df.to_csv('Lookalike.csv', header=False)\n",
    "\n",
    "print(\"Lookalike model created and saved to Lookalike.csv\")\n"
   ]
  },
  {
   "cell_type": "code",
   "execution_count": null,
   "id": "5c16811c-5e93-4143-83b8-5c8c73809ccd",
   "metadata": {},
   "outputs": [],
   "source": []
  }
 ],
 "metadata": {
  "kernelspec": {
   "display_name": "Python 3 (ipykernel)",
   "language": "python",
   "name": "python3"
  },
  "language_info": {
   "codemirror_mode": {
    "name": "ipython",
    "version": 3
   },
   "file_extension": ".py",
   "mimetype": "text/x-python",
   "name": "python",
   "nbconvert_exporter": "python",
   "pygments_lexer": "ipython3",
   "version": "3.12.4"
  }
 },
 "nbformat": 4,
 "nbformat_minor": 5
}
